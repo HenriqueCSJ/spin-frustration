{
 "cells": [
  {
   "cell_type": "markdown",
   "metadata": {},
   "source": [
    "# Spin frustration"
   ]
  },
  {
   "cell_type": "code",
   "execution_count": 9,
   "metadata": {},
   "outputs": [],
   "source": [
    "from sympy.interactive import printing\n",
    "printing.init_printing(use_latex = True)\n",
    "\n",
    "import numpy as np\n",
    "import sympy as sp"
   ]
  },
  {
   "cell_type": "markdown",
   "metadata": {},
   "source": [
    "![Triangular copper structure](frustrated.png \"Triangular copper\")"
   ]
  },
  {
   "cell_type": "markdown",
   "metadata": {},
   "source": [
    "Two equal A-B interactions and one A-A interaction.\n",
    "The local spins are $S_{a1}$, $S_{a2}$ ($S_{a1}$ = $S_{a2}$ = $S_{a}$) and $S_{b}$. Interactions parameters are $J$ and $J'$.\n",
    "\n",
    "The spin Hamiltonian in zero field is:\n",
    "\n",
    "$$H = -J(S_{a1} \\dot S_{b} + S_{a2} \\dot S_{b}) - J'(S_{a1} \\dot S_{a2})$$\n",
    "\n",
    "Negrecting anisotropic interactions:\n",
    "\n",
    "$$H = -J(S_{a1} \\dot S_{b} + S_{a2} \\dot S_{b} + S_{a1} \\dot S_{a2}) - (J'-J)(S_{a1} \\dot S_{a2})$$\n",
    "\n",
    "Or:\n",
    "\n",
    "$$H = -\\frac{J}{2}(S^{2} - S_{a1}^{2} - S_{a2}^{2} - S_{b}^{2}) - \\frac{J'-J}{2}(S'^{2} - S_{a1}^{2} - S_{a2}^{2})$$"
   ]
  },
  {
   "cell_type": "code",
   "execution_count": 10,
   "metadata": {},
   "outputs": [],
   "source": [
    "# Assignment of all symbolic variables\n",
    "Sa = sp.Symbol(\"Sa\")\n",
    "Sa1 = sp.Symbol(\"Sa1\")\n",
    "Sa2 = sp.Symbol(\"Sa2\")\n",
    "Sb = sp.Symbol(\"Sb\")\n",
    "J = sp.Symbol(\"J\")\n",
    "J_prime = sp.Symbol(\"J\\'\")\n",
    "S_prime = Sa1 + Sa2\n",
    "S = S_prime + Sb"
   ]
  },
  {
   "cell_type": "code",
   "execution_count": 11,
   "metadata": {},
   "outputs": [
    {
     "data": {
      "image/png": "[encoded data removed]",
      "text/latex": [
       "$$- \\frac{J}{2} \\left(- Sa_{1}^{2} - Sa_{2}^{2} - Sb^{2} + \\left(Sa_{1} + Sa_{2} + Sb\\right)^{2}\\right) - \\left(- \\frac{J}{2} + \\frac{J'}{2}\\right) \\left(- Sa_{1}^{2} - Sa_{2}^{2} + \\left(Sa_{1} + Sa_{2}\\right)^{2}\\right)$$"
      ],
      "text/plain": [
       "    ⎛     2      2     2                   2⎞                                 \n",
       "  J⋅⎝- Sa₁  - Sa₂  - Sb  + (Sa₁ + Sa₂ + Sb) ⎠   ⎛  J   J'⎞ ⎛     2      2     \n",
       "- ─────────────────────────────────────────── - ⎜- ─ + ──⎟⋅⎝- Sa₁  - Sa₂  + (S\n",
       "                       2                        ⎝  2   2 ⎠                    \n",
       "\n",
       "           \n",
       "         2⎞\n",
       "a₁ + Sa₂) ⎠\n",
       "           "
      ]
     },
     "metadata": {},
     "output_type": "display_data"
    }
   ],
   "source": [
    "# Phythonic version of the Hamiltonian (Here it's showed expanded)\n",
    "H = (-J/2)*(S**2 - Sa1**2 - Sa2**2 - Sb**2) - ((J_prime - J)/2)*(S_prime**2 - Sa1**2 - Sa2**2)\n",
    "display(H)"
   ]
  },
  {
   "cell_type": "markdown",
   "metadata": {},
   "source": [
    "Relative energies in Zero Field:\n",
    "$$E(S,S')=-\\frac{J}{2}S(S+1) - \\frac{J'-J}{2}S'(S'+1)$$\n",
    "With:\n",
    "\n",
    "$$S' = S_{a1} + S_{a2}$$\n",
    "$$S = S' + S_{b}$$"
   ]
  },
  {
   "cell_type": "code",
   "execution_count": 15,
   "metadata": {},
   "outputs": [
    {
     "data": {
      "image/png": "[encoded data removed]",
      "text/latex": [
       "$$- \\frac{J}{2} \\left(Sa_{1} + Sa_{2} + Sb\\right) \\left(Sa_{1} + Sa_{2} + Sb + 1\\right) - \\left(- \\frac{J}{2} + \\frac{J'}{2}\\right) \\left(Sa_{1} + Sa_{2}\\right) \\left(Sa_{1} + Sa_{2} + 1\\right)$$"
      ],
      "text/plain": [
       "  J⋅(Sa₁ + Sa₂ + Sb)⋅(Sa₁ + Sa₂ + Sb + 1)   ⎛  J   J'⎞                        \n",
       "- ─────────────────────────────────────── - ⎜- ─ + ──⎟⋅(Sa₁ + Sa₂)⋅(Sa₁ + Sa₂ \n",
       "                     2                      ⎝  2   2 ⎠                        \n",
       "\n",
       "    \n",
       "+ 1)\n",
       "    "
      ]
     },
     "metadata": {},
     "output_type": "display_data"
    }
   ],
   "source": [
    "# Pythonic version of the energy equation\n",
    "E = (-J/2)*(S*(S + 1)) - ((J_prime -J)/2)*(S_prime*(S_prime + 1))\n",
    "display(E)"
   ]
  },
  {
   "cell_type": "code",
   "execution_count": 16,
   "metadata": {},
   "outputs": [
    {
     "data": {
      "image/png": "[encoded data removed]",
      "text/latex": [
       "$$- J Sa_{1} Sb - J Sa_{2} Sb - \\frac{J Sb^{2}}{2} - \\frac{J Sb}{2} - \\frac{J' Sa_{1}^{2}}{2} - J' Sa_{1} Sa_{2} - \\frac{J' Sa_{1}}{2} - \\frac{J' Sa_{2}^{2}}{2} - \\frac{J' Sa_{2}}{2}$$"
      ],
      "text/plain": [
       "                           2                2                               2 \n",
       "                       J⋅Sb    J⋅Sb   J'⋅Sa₁                 J'⋅Sa₁   J'⋅Sa₂  \n",
       "-J⋅Sa₁⋅Sb - J⋅Sa₂⋅Sb - ───── - ──── - ─────── - J'⋅Sa₁⋅Sa₂ - ────── - ─────── \n",
       "                         2      2        2                     2         2    \n",
       "\n",
       "        \n",
       "  J'⋅Sa₂\n",
       "- ──────\n",
       "    2   "
      ]
     },
     "metadata": {},
     "output_type": "display_data"
    }
   ],
   "source": [
    "# And the expanded version of the equation:\n",
    "display(sp.expand(E))"
   ]
  },
  {
   "cell_type": "markdown",
   "metadata": {},
   "source": [
    "**S'** varies by an integer from 0 to $2S_{a}$ and for every **S'** value **S** varies by an integer from $|S'-S_{b}|$ to $S'+S_{b}$"
   ]
  },
  {
   "cell_type": "code",
   "execution_count": 19,
   "metadata": {},
   "outputs": [
    {
     "name": "stdout",
     "output_type": "stream",
     "text": [
      "S = [1.5 2.5 3.5] e S' = [0. 1.]\n"
     ]
    }
   ],
   "source": [
    "# Entre valores numéricos para os spins\n",
    "Sa = 1/2\n",
    "Sb = 5/2\n",
    "Sa1 = Sa\n",
    "Sa2 = Sa\n",
    "S_prime = np.arange(0, 2*Sa + 1, 1)\n",
    "Sba = np.amin(np.absolute(S_prime - Sb))\n",
    "Sbb = np.amax(S_prime + Sb)\n",
    "S = np.arange(np.amin(np.absolute(S_prime - Sb)), np.amax(S_prime + Sb + 1), 1)\n",
    "print(\"S = {} e S' = {}\".format(S, S_prime))"
   ]
  },
  {
   "cell_type": "code",
   "execution_count": 22,
   "metadata": {},
   "outputs": [
    {
     "name": "stdout",
     "output_type": "stream",
     "text": [
      "E(2.5,0.0)\n"
     ]
    },
    {
     "data": {
      "image/png": "[encoded data removed]",
      "text/latex": [
       "$$- 4.375 J$$"
      ],
      "text/plain": [
       "-4.375⋅J"
      ]
     },
     "metadata": {},
     "output_type": "display_data"
    },
    {
     "name": "stdout",
     "output_type": "stream",
     "text": [
      "E(1.5,1.0)\n"
     ]
    },
    {
     "data": {
      "image/png": "[encoded data removed]",
      "text/latex": [
       "$$- 0.875 J - 1.0 J'$$"
      ],
      "text/plain": [
       "-0.875⋅J - 1.0⋅J'"
      ]
     },
     "metadata": {},
     "output_type": "display_data"
    },
    {
     "name": "stdout",
     "output_type": "stream",
     "text": [
      "E(2.5,1.0)\n"
     ]
    },
    {
     "data": {
      "image/png": "[encoded data removed]",
      "text/latex": [
       "$$- 3.375 J - 1.0 J'$$"
      ],
      "text/plain": [
       "-3.375⋅J - 1.0⋅J'"
      ]
     },
     "metadata": {},
     "output_type": "display_data"
    },
    {
     "name": "stdout",
     "output_type": "stream",
     "text": [
      "E(3.5,1.0)\n"
     ]
    },
    {
     "data": {
      "image/png": "[encoded data removed]",
      "text/latex": [
       "$$- 6.875 J - 1.0 J'$$"
      ],
      "text/plain": [
       "-6.875⋅J - 1.0⋅J'"
      ]
     },
     "metadata": {},
     "output_type": "display_data"
    }
   ],
   "source": [
    "# Iterativamente encontrando valores para as energias\n",
    "for i in S_prime:\n",
    "    S = np.arange(np.amin(np.absolute(i - Sb)), np.amax(i + Sb + 1), 1)\n",
    "    for j in S:\n",
    "        print(\"E({},{})\".format(j, i))\n",
    "        E = -(J/2)*(j*(j + 1)) - ((J_prime -J)/2)*(i*(i + 1))\n",
    "        display(E)"
   ]
  },
  {
   "cell_type": "code",
   "execution_count": null,
   "metadata": {},
   "outputs": [],
   "source": []
  },
  {
   "cell_type": "code",
   "execution_count": null,
   "metadata": {},
   "outputs": [],
   "source": []
  }
 ],
 "metadata": {
  "kernelspec": {
   "display_name": "Python 3",
   "language": "python",
   "name": "python3"
  },
  "language_info": {
   "codemirror_mode": {
    "name": "ipython",
    "version": 3
   },
   "file_extension": ".py",
   "mimetype": "text/x-python",
   "name": "python",
   "nbconvert_exporter": "python",
   "pygments_lexer": "ipython3",
   "version": "3.6.5"
  }
 },
 "nbformat": 4,
 "nbformat_minor": 2
}
