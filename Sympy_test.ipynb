{
 "cells": [
  {
   "cell_type": "markdown",
   "metadata": {},
   "source": [
    "# Acoplamento magnético em spin frustrado"
   ]
  },
  {
   "cell_type": "code",
   "execution_count": 115,
   "metadata": {},
   "outputs": [],
   "source": [
    "from sympy.interactive import printing\n",
    "printing.init_printing(use_latex = True)\n",
    "\n",
    "import numpy as np\n",
    "import sympy as sp"
   ]
  },
  {
   "cell_type": "code",
   "execution_count": 116,
   "metadata": {},
   "outputs": [],
   "source": [
    "Sa = sp.Symbol(\"Sa\")\n",
    "Sa1 = sp.Symbol(\"Sa1\")\n",
    "Sa2 = sp.Symbol(\"Sa2\")\n",
    "Sb = sp.Symbol(\"Sb\")\n",
    "J = sp.Symbol(\"J\")\n",
    "J_prime = sp.Symbol(\"J\\'\")\n",
    "S_prime = Sa1 + Sa2\n",
    "S = S_prime + Sb"
   ]
  },
  {
   "cell_type": "code",
   "execution_count": 117,
   "metadata": {},
   "outputs": [],
   "source": [
    "H = (-J/2)*(S**2 - Sa1**2 - Sa2**2 - Sb**2) - ((J_prime - J)/2)*(S_prime**2 - Sa1**2 - Sa2**2)"
   ]
  },
  {
   "cell_type": "code",
   "execution_count": 118,
   "metadata": {},
   "outputs": [
    {
     "data": {
      "image/png": "[encoded data removed]",
      "text/latex": [
       "$$- \\frac{J}{2} \\left(- Sa_{1}^{2} - Sa_{2}^{2} - Sb^{2} + \\left(Sa_{1} + Sa_{2} + Sb\\right)^{2}\\right) - \\left(- \\frac{J}{2} + \\frac{J'}{2}\\right) \\left(- Sa_{1}^{2} - Sa_{2}^{2} + \\left(Sa_{1} + Sa_{2}\\right)^{2}\\right)$$"
      ],
      "text/plain": [
       "    ⎛     2      2     2                   2⎞                                 \n",
       "  J⋅⎝- Sa₁  - Sa₂  - Sb  + (Sa₁ + Sa₂ + Sb) ⎠   ⎛  J   J'⎞ ⎛     2      2     \n",
       "- ─────────────────────────────────────────── - ⎜- ─ + ──⎟⋅⎝- Sa₁  - Sa₂  + (S\n",
       "                       2                        ⎝  2   2 ⎠                    \n",
       "\n",
       "           \n",
       "         2⎞\n",
       "a₁ + Sa₂) ⎠\n",
       "           "
      ]
     },
     "metadata": {},
     "output_type": "display_data"
    }
   ],
   "source": [
    "display(H)"
   ]
  },
  {
   "cell_type": "markdown",
   "metadata": {},
   "source": [
    "Relative energies in Zero Field:\n",
    "$$E(S,S')=-\\frac{J}{2}S(S+1) - \\frac{J'-J}{2}S'(S'+1)$$"
   ]
  },
  {
   "cell_type": "code",
   "execution_count": 1,
   "metadata": {},
   "outputs": [
    {
     "ename": "NameError",
     "evalue": "name 'E' is not defined",
     "output_type": "error",
     "traceback": [
      "\u001b[1;31m---------------------------------------------------------------------------\u001b[0m",
      "\u001b[1;31mNameError\u001b[0m                                 Traceback (most recent call last)",
      "\u001b[1;32m<ipython-input-1-03ab1f9daa36>\u001b[0m in \u001b[0;36m<module>\u001b[1;34m()\u001b[0m\n\u001b[1;32m----> 1\u001b[1;33m \u001b[0mdisplay\u001b[0m\u001b[1;33m(\u001b[0m\u001b[0mE\u001b[0m\u001b[1;33m)\u001b[0m\u001b[1;33m\u001b[0m\u001b[0m\n\u001b[0m",
      "\u001b[1;31mNameError\u001b[0m: name 'E' is not defined"
     ]
    }
   ],
   "source": [
    "display(E)"
   ]
  },
  {
   "cell_type": "code",
   "execution_count": 2,
   "metadata": {},
   "outputs": [
    {
     "ename": "NameError",
     "evalue": "name 'J' is not defined",
     "output_type": "error",
     "traceback": [
      "\u001b[1;31m---------------------------------------------------------------------------\u001b[0m",
      "\u001b[1;31mNameError\u001b[0m                                 Traceback (most recent call last)",
      "\u001b[1;32m<ipython-input-2-d1baff4ed233>\u001b[0m in \u001b[0;36m<module>\u001b[1;34m()\u001b[0m\n\u001b[1;32m----> 1\u001b[1;33m \u001b[0mE\u001b[0m \u001b[1;33m=\u001b[0m \u001b[1;33m(\u001b[0m\u001b[1;33m-\u001b[0m\u001b[0mJ\u001b[0m\u001b[1;33m/\u001b[0m\u001b[1;36m2\u001b[0m\u001b[1;33m)\u001b[0m\u001b[1;33m*\u001b[0m\u001b[1;33m(\u001b[0m\u001b[0mS\u001b[0m\u001b[1;33m*\u001b[0m\u001b[1;33m(\u001b[0m\u001b[0mS\u001b[0m \u001b[1;33m+\u001b[0m \u001b[1;36m1\u001b[0m\u001b[1;33m)\u001b[0m\u001b[1;33m)\u001b[0m \u001b[1;33m-\u001b[0m \u001b[1;33m(\u001b[0m\u001b[1;33m(\u001b[0m\u001b[0mJ_prime\u001b[0m \u001b[1;33m-\u001b[0m\u001b[0mJ\u001b[0m\u001b[1;33m)\u001b[0m\u001b[1;33m/\u001b[0m\u001b[1;36m2\u001b[0m\u001b[1;33m)\u001b[0m\u001b[1;33m*\u001b[0m\u001b[1;33m(\u001b[0m\u001b[0mS_prime\u001b[0m\u001b[1;33m*\u001b[0m\u001b[1;33m(\u001b[0m\u001b[0mS_prime\u001b[0m \u001b[1;33m+\u001b[0m \u001b[1;36m1\u001b[0m\u001b[1;33m)\u001b[0m\u001b[1;33m)\u001b[0m\u001b[1;33m\u001b[0m\u001b[0m\n\u001b[0m",
      "\u001b[1;31mNameError\u001b[0m: name 'J' is not defined"
     ]
    }
   ],
   "source": [
    "E = (-J/2)*(S*(S + 1)) - ((J_prime -J)/2)*(S_prime*(S_prime + 1))"
   ]
  },
  {
   "cell_type": "code",
   "execution_count": 126,
   "metadata": {},
   "outputs": [],
   "source": [
    "Sa = 2*1/2\n",
    "S_prime = np.arange(0, 2*Sa, 1)\n",
    "Sba = np.amin(np.absolute(S_prime - Sb))\n",
    "Sbb = np.amax(S_prime + Sb)\n",
    "S = np.arange(np.amin(np.absolute(S_prime - Sb)), np.amax(S_prime + Sb + 1), 1)"
   ]
  },
  {
   "cell_type": "code",
   "execution_count": 127,
   "metadata": {},
   "outputs": [
    {
     "name": "stdout",
     "output_type": "stream",
     "text": [
      "[0. 1.]\n"
     ]
    }
   ],
   "source": [
    "print(S_prime)"
   ]
  },
  {
   "cell_type": "code",
   "execution_count": 128,
   "metadata": {},
   "outputs": [
    {
     "name": "stdout",
     "output_type": "stream",
     "text": [
      "[0.5 1.5]\n"
     ]
    }
   ],
   "source": [
    "print(S)"
   ]
  },
  {
   "cell_type": "code",
   "execution_count": 129,
   "metadata": {},
   "outputs": [],
   "source": [
    "E = (-J/2)*(S*(S + 1)) - ((J_prime -J)/2)*(S_prime*(S_prime + 1))"
   ]
  },
  {
   "cell_type": "code",
   "execution_count": 130,
   "metadata": {},
   "outputs": [
    {
     "data": {
      "text/plain": [
       "array([-0.375*J, -0.875*J - 1.0*J'], dtype=object)"
      ]
     },
     "metadata": {},
     "output_type": "display_data"
    }
   ],
   "source": [
    "display(E)"
   ]
  },
  {
   "cell_type": "code",
   "execution_count": 131,
   "metadata": {},
   "outputs": [
    {
     "name": "stdout",
     "output_type": "stream",
     "text": [
      "S' is 0.0 and S is 0.5\n"
     ]
    },
    {
     "data": {
      "image/png": "[encoded data removed]",
      "text/latex": [
       "$$- 0.375 J$$"
      ],
      "text/plain": [
       "-0.375⋅J"
      ]
     },
     "metadata": {},
     "output_type": "display_data"
    },
    {
     "name": "stdout",
     "output_type": "stream",
     "text": [
      "-0.375*J\n",
      "S' is 1.0 and S is 0.5\n"
     ]
    },
    {
     "data": {
      "image/png": "[encoded data removed]",
      "text/latex": [
       "$$0.625 J - 1.0 J'$$"
      ],
      "text/plain": [
       "0.625⋅J - 1.0⋅J'"
      ]
     },
     "metadata": {},
     "output_type": "display_data"
    },
    {
     "name": "stdout",
     "output_type": "stream",
     "text": [
      "0.625*J - 1.0*J'\n",
      "S' is 1.0 and S is 1.5\n"
     ]
    },
    {
     "data": {
      "image/png": "[encoded data removed]",
      "text/latex": [
       "$$- 0.875 J - 1.0 J'$$"
      ],
      "text/plain": [
       "-0.875⋅J - 1.0⋅J'"
      ]
     },
     "metadata": {},
     "output_type": "display_data"
    },
    {
     "name": "stdout",
     "output_type": "stream",
     "text": [
      "-0.875*J - 1.0*J'\n"
     ]
    }
   ],
   "source": [
    "for i in S_prime:\n",
    "    for j in np.arange(np.amin(np.absolute(i - Sb)), np.amax(i + Sb + 1), 1):\n",
    "        print(\"S\\' is {} and S is {}\".format(i, j))\n",
    "        E = (-J/2)*(j*(j + 1)) - ((J_prime -J)/2)*(i*(i + 1))\n",
    "        display(E)\n",
    "        print(E)"
   ]
  },
  {
   "cell_type": "code",
   "execution_count": null,
   "metadata": {},
   "outputs": [],
   "source": []
  }
 ],
 "metadata": {
  "kernelspec": {
   "display_name": "Python 3",
   "language": "python",
   "name": "python3"
  },
  "language_info": {
   "codemirror_mode": {
    "name": "ipython",
    "version": 3
   },
   "file_extension": ".py",
   "mimetype": "text/x-python",
   "name": "python",
   "nbconvert_exporter": "python",
   "pygments_lexer": "ipython3",
   "version": "3.6.5"
  }
 },
 "nbformat": 4,
 "nbformat_minor": 2
}
